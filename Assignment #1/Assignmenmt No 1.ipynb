{
 "cells": [
  {
   "cell_type": "code",
   "execution_count": 1,
   "id": "48d1e9de",
   "metadata": {},
   "outputs": [
    {
     "name": "stdout",
     "output_type": "stream",
     "text": [
      "hello World\n"
     ]
    }
   ],
   "source": [
    "print(\"hello World\")"
   ]
  },
  {
   "cell_type": "code",
   "execution_count": 117,
   "id": "51d53b45",
   "metadata": {},
   "outputs": [
    {
     "name": "stdout",
     "output_type": "stream",
     "text": [
      "10000\n"
     ]
    }
   ],
   "source": [
    "a = 50;\n",
    "b = 200;\n",
    "c = a*b;\n",
    "print(c);"
   ]
  },
  {
   "cell_type": "code",
   "execution_count": 129,
   "id": "449f512e",
   "metadata": {},
   "outputs": [
    {
     "name": "stdout",
     "output_type": "stream",
     "text": [
      "sahalshafiq\n"
     ]
    }
   ],
   "source": [
    "x = \"sahal\";\n",
    "y = \"shafiq\";\n",
    "z = x+y;\n",
    "print(z)\n",
    "\n",
    "#Just fot Example not a assignment task"
   ]
  },
  {
   "cell_type": "code",
   "execution_count": 49,
   "id": "410af19f",
   "metadata": {},
   "outputs": [
    {
     "name": "stdout",
     "output_type": "stream",
     "text": [
      "Twinkle, twinkle, little star\n",
      "          How I wonder what you are!\n",
      "                    up above the world so high,\n",
      "                    Like a diamond  the sky\n",
      "Twinkle, twinkle, little star\n",
      "          How I wonder what you are\n"
     ]
    }
   ],
   "source": [
    "a = \"Twinkle, twinkle, little star\";\n",
    "print(a)\n",
    "b = \"How I wonder what you are!\";\n",
    "b_length=len(b)+10  \n",
    "b_revised=b.rjust(b_length)\n",
    "print(b_revised)\n",
    "c =  \"up above the world so high,\";\n",
    "c_length=len(c)+20 \n",
    "c_revised=c.rjust(c_length)\n",
    "print(c_revised)\n",
    "d = \"Like a diamond  the sky\";\n",
    "d_length=len(d)+20 \n",
    "d_revised=d.rjust(d_length)\n",
    "print(d_revised)\n",
    "e = \"Twinkle, twinkle, little star\";\n",
    "print(e)\n",
    "f = \"How I wonder what you are\";\n",
    "f_length=len(f)+10  \n",
    "f_revised=f.rjust(f_length)\n",
    "print(f_revised)\n"
   ]
  },
  {
   "cell_type": "code",
   "execution_count": 50,
   "id": "a9cacedb",
   "metadata": {},
   "outputs": [
    {
     "name": "stdout",
     "output_type": "stream",
     "text": [
      "Python version you are using\n",
      "3.9.7 (default, Sep 16 2021, 16:59:28) [MSC v.1916 64 bit (AMD64)]\n"
     ]
    }
   ],
   "source": [
    "a = \"sys\";\n",
    "print('Python version you are using')\n",
    "print(sys.version)"
   ]
  },
  {
   "cell_type": "code",
   "execution_count": 94,
   "id": "0cca6b5d",
   "metadata": {
    "scrolled": true
   },
   "outputs": [
    {
     "name": "stdout",
     "output_type": "stream",
     "text": [
      "Display date and time :  \n",
      "Year : 2021\n",
      "Month : 12\n",
      "Day : 29\n",
      "Hour : 3\n",
      "Minute : 26\n",
      "Second : 40\n"
     ]
    }
   ],
   "source": [
    "a = \"timedate\"\n",
    "b_time= datetime.datetime.now() \n",
    "     \n",
    "print (\"Display date and time :  \") \n",
    "    \n",
    "print (\"Year : \", end = \"\")\n",
    "print (b_time.year) \n",
    "    \n",
    "print (\"Month : \", end = \"\") \n",
    "print (b_time.month) \n",
    "    \n",
    "print (\"Day : \", end = \"\") \n",
    "print (b_time.day) \n",
    "    \n",
    "print (\"Hour : \", end = \"\") \n",
    "print (b_time.hour) \n",
    "    \n",
    "print (\"Minute : \", end = \"\") \n",
    "print (b_time.minute) \n",
    "    \n",
    "print (\"Second : \", end = \"\") \n",
    "print (b_time.second) "
   ]
  },
  {
   "cell_type": "code",
   "execution_count": 138,
   "id": "732878a1",
   "metadata": {},
   "outputs": [
    {
     "name": "stdout",
     "output_type": "stream",
     "text": [
      "Input the radius of the circle : 55\n",
      "Compute The Area\n",
      "The area of the circle with radius 55.0 is: 9503.317777109125\n"
     ]
    }
   ],
   "source": [
    "from math import pi\n",
    "radius = float(input (\"the radius of the circle : \"))\n",
    "print(\"Compute The Area\")\n",
    "print (\"The area of the circle with radius \" + str(radius) + \" is: \" + str(pi * radius**2))"
   ]
  },
  {
   "cell_type": "code",
   "execution_count": 141,
   "id": "84b049b3",
   "metadata": {},
   "outputs": [
    {
     "name": "stdout",
     "output_type": "stream",
     "text": [
      "Add Your First name :Sahal\n",
      "Add Your last name :Shafiq\n",
      "hi Sahal Shafiq\n"
     ]
    }
   ],
   "source": [
    "nam1 = input(\"Add Your First name :\")\n",
    "nam2 = input(\"Add Your last name :\")\n",
    "print(\"hi \" + nam1 + \" \" + nam2)"
   ]
  },
  {
   "cell_type": "code",
   "execution_count": 142,
   "id": "72b5aec2",
   "metadata": {},
   "outputs": [
    {
     "name": "stdout",
     "output_type": "stream",
     "text": [
      "first Number:55\n",
      "second Number:100\n",
      "155\n"
     ]
    }
   ],
   "source": [
    "num1 = input(\"first Number:\")\n",
    "num2 = input(\"second Number:\")\n",
    "sum = int(num1) + int(num2)\n",
    "print(sum)"
   ]
  },
  {
   "cell_type": "code",
   "execution_count": null,
   "id": "f4d45ec2",
   "metadata": {},
   "outputs": [],
   "source": []
  }
 ],
 "metadata": {
  "kernelspec": {
   "display_name": "Python 3 (ipykernel)",
   "language": "python",
   "name": "python3"
  },
  "language_info": {
   "codemirror_mode": {
    "name": "ipython",
    "version": 3
   },
   "file_extension": ".py",
   "mimetype": "text/x-python",
   "name": "python",
   "nbconvert_exporter": "python",
   "pygments_lexer": "ipython3",
   "version": "3.9.7"
  }
 },
 "nbformat": 4,
 "nbformat_minor": 5
}
